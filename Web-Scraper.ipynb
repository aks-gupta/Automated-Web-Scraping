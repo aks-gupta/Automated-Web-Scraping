{
 "cells": [
  {
   "cell_type": "code",
   "execution_count": 4,
   "metadata": {},
   "outputs": [],
   "source": [
    "import pandas as pd\n",
    "import numpy as np\n",
    "import os.path\n",
    "import requests \n",
    "import pandas as pd \n",
    "from bs4 import BeautifulSoup \n",
    "from googlesearch import search\n",
    "import pdfplumber"
   ]
  },
  {
   "cell_type": "code",
   "execution_count": 22,
   "metadata": {},
   "outputs": [],
   "source": [
    "df = pd.read_csv('RVCE_Text data search_Telugu - AGRICULTURE.csv')"
   ]
  },
  {
   "cell_type": "code",
   "execution_count": 7,
   "metadata": {},
   "outputs": [
    {
     "data": {
      "text/plain": [
       "(1084, 11)"
      ]
     },
     "execution_count": 7,
     "metadata": {},
     "output_type": "execute_result"
    }
   ],
   "source": [
    "df.head()\n",
    "df.shape"
   ]
  },
  {
   "cell_type": "code",
   "execution_count": 18,
   "metadata": {},
   "outputs": [],
   "source": [
    "data = df.iloc[:,:].values\n",
    "folderpath = r\"C:\\Users\\akshi\\Documents\\CSE @ RV\\Projects\\IISc Project\\webscraping\\textfiles\""
   ]
  },
  {
   "cell_type": "code",
   "execution_count": 19,
   "metadata": {},
   "outputs": [],
   "source": [
    "def getdata(url): \n",
    "    r = requests.get(url) \n",
    "    return r.text\n",
    "\n",
    "def textScraping(link, name_of_file, filename):\n",
    "    count = 0\n",
    "    filePath = os.path.join(folderpath, name_of_file, filename)         \n",
    "    f = open(filePath, \"w\",encoding=\"utf-8\")\n",
    "    f2=open(\"testc.txt\",\"w+\",encoding=\"utf-8\")  \n",
    "    htmldata = getdata(link) \n",
    "    soup = BeautifulSoup(htmldata, 'html.parser') \n",
    "    data =''\n",
    "    text=\"\"\n",
    "    text2=\"\"\n",
    "    text3=\"\"\n",
    "    text4=\"\"\n",
    "    s=\"\"\n",
    "    for data in soup.find_all(\"p\"):\n",
    "        text+=data.get_text()\n",
    "    text2+=text.replace('.', '.\\n')\n",
    "    text3+=text2.replace('  ', '')  \n",
    "    text4+=text3.replace('\\n\\n', '\\n')  \n",
    "    f.write(text4)\n",
    "    f.close()\n",
    "    filePath = os.path.join(folderpath, name_of_file, filename)         \n",
    "    f = open(filePath, \"r\",encoding=\"utf-8\")\n",
    "    s = f.readline()\n",
    "    while s:\n",
    "        if(len(s)>10):\n",
    "            f2.write(s)\n",
    "            count += 1\n",
    "        s = f.readline()\n",
    "    f.close()\n",
    "    f2.close()\n",
    "    os.remove(\"testc.txt\")\n",
    "    print(count, \"lines extracted to\",filename, \"from webpage\", link)"
   ]
  },
  {
   "cell_type": "code",
   "execution_count": 21,
   "metadata": {},
   "outputs": [
    {
     "name": "stdout",
     "output_type": "stream",
     "text": [
      "462 lines extracted to Production1.txt from webpage https://te.vikaspedia.in/agriculture/crop-production/production-technologies\n",
      "27 lines extracted to Production2.txt from webpage https://apagrisnet.gov.in/vyvasaayasaakha.php\n",
      "43 lines extracted to Production3.txt from webpage https://kamareddy.telangana.gov.in/te/%E0%B0%B5%E0%B0%BF%E0%B0%AD%E0%B0%BE%E0%B0%97%E0%B0%BE%E0%B0%B2%E0%B1%81/%E0%B0%B5%E0%B1%8D%E0%B0%AF%E0%B0%B5%E0%B0%B8%E0%B0%BE%E0%B0%AF%E0%B0%82/\n",
      "60 lines extracted to 1Crop cultivation systems1.txt from webpage https://te.wikipedia.org/wiki/%E0%B0%B5%E0%B1%8D%E0%B0%AF%E0%B0%B5%E0%B0%B8%E0%B0%BE%E0%B0%AF%E0%B0%82\n",
      "73 lines extracted to 1Crop cultivation systems2.txt from webpage https://te.vikaspedia.in/agriculture/c24c30c1ac41c17c3e-c05c21c41c17c41-c2ac4dc30c36c4dc28c32c41/c15c02c26c3f\n",
      "408 lines extracted to 1Crop cultivation systems3.txt from webpage https://te.vikaspedia.in/agriculture/c24c30c1ac41c17c3e-c05c21c41c17c41-c2ac4dc30c36c4dc28c32c41/c35c32c3f\n",
      "68 lines extracted to 1Crop cultivation systems4.txt from webpage https://apagrisnet.gov.in/verushanaga_tegullu_details.php#aggitegulu\n",
      "60 lines extracted to 1Crop cultivation systems5.txt from webpage https://apagrisnet.gov.in/pratthi_thegullu.php\n",
      "30 lines extracted to 2Livestock production systems1.txt from webpage https://adilabad.telangana.gov.in/te/%E0%B0%AA%E0%B0%B6%E0%B1%81%E0%B0%B8%E0%B0%82%E0%B0%B0%E0%B0%95%E0%B1%8D%E0%B0%B7%E0%B0%A3/\n",
      "12 lines extracted to 2Livestock production systems2.txt from webpage https://ananthapuramu.ap.gov.in/te/%E0%B0%AA%E0%B0%B6%E0%B1%81%E0%B0%B8%E0%B0%82%E0%B0%B0%E0%B0%95%E0%B1%8D%E0%B0%B7%E0%B0%A3/\n",
      "8 lines extracted to 2Livestock production systems3.txt from webpage https://srikakulam.ap.gov.in/te/%E0%B0%AA%E0%B0%B6%E0%B1%81%E0%B0%B8%E0%B0%82%E0%B0%B0%E0%B0%95%E0%B1%8D%E0%B0%B7%E0%B0%A3-%E0%B0%B6%E0%B0%BE%E0%B0%96/\n"
     ]
    }
   ],
   "source": [
    "filename=\"\"\n",
    "directory = \"\"\n",
    "for x in range(2,5):\n",
    "    directory = \"\"\n",
    "    if type(data[x][4])!=type(data[0][0]):\n",
    "        if type(data[x][2])!=type(data[0][0]):\n",
    "            name_of_file = str(data[x][2])\n",
    "            completeName = os.path.join(folderpath, name_of_file)         \n",
    "            os.mkdir(completeName)\n",
    "            i,k = 1,4\n",
    "            while k<11 and (type(data[x][k])!=type(data[0][0])):\n",
    "                filename = filename + data[x][2] + str(i) + \".txt\"\n",
    "                try:\n",
    "                    textScraping(data[x][k], name_of_file, filename)\n",
    "                except:\n",
    "                    print(\"Error\")\n",
    "                filename=\"\"\n",
    "                k += 1\n",
    "                i += 1\n",
    "        elif type(data[x][3])!=type(data[0][0]):\n",
    "            name_of_file = str(data[x][3])\n",
    "            completeName = os.path.join(folderpath, name_of_file)         \n",
    "            os.mkdir(completeName)\n",
    "            i,k = 1,4\n",
    "            while k<11 and (type(data[x][k])!=type(data[0][0])):\n",
    "                filename = filename + data[x][3] + str(i) + \".txt\"\n",
    "                try:    \n",
    "                    textScraping(data[x][k],name_of_file,filename)\n",
    "                except:\n",
    "                    print(\"Error\")\n",
    "                k += 1\n",
    "                i += 1\n",
    "                filename=\"\""
   ]
  },
  {
   "cell_type": "code",
   "execution_count": null,
   "metadata": {},
   "outputs": [],
   "source": []
  }
 ],
 "metadata": {
  "kernelspec": {
   "display_name": "Python 3",
   "language": "python",
   "name": "python3"
  },
  "language_info": {
   "codemirror_mode": {
    "name": "ipython",
    "version": 3
   },
   "file_extension": ".py",
   "mimetype": "text/x-python",
   "name": "python",
   "nbconvert_exporter": "python",
   "pygments_lexer": "ipython3",
   "version": "3.7.3"
  }
 },
 "nbformat": 4,
 "nbformat_minor": 2
}
