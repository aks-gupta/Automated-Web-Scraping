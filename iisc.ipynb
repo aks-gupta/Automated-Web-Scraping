{
 "cells": [
  {
   "cell_type": "code",
   "execution_count": null,
   "id": "00ec79b2",
   "metadata": {},
   "outputs": [],
   "source": [
    "import pandas as pd\n",
    "import json\n",
    "import os.path\n",
    "from bs4 import BeautifulSoup \n",
    "import math\n",
    "import requests\n",
    "import time"
   ]
  },
  {
   "cell_type": "code",
   "execution_count": null,
   "id": "ce9bb3c5",
   "metadata": {},
   "outputs": [],
   "source": [
    "df = pd.read_csv('RVCE_Text data search_Telugu - GENERAL.csv')"
   ]
  },
  {
   "cell_type": "code",
   "execution_count": null,
   "id": "dbe56f39",
   "metadata": {},
   "outputs": [],
   "source": [
    "data = df.iloc[:,:].values\n",
    "folderpath = r\"C:\\Users\\akshi\\Documents\\CSE @ RV\\Projects\\IISc Project\\jsonfiles\""
   ]
  },
  {
   "cell_type": "code",
   "execution_count": null,
   "id": "414053c3",
   "metadata": {},
   "outputs": [],
   "source": [
    "def getdata(url): \n",
    "    r = requests.get(url) \n",
    "    return r.text\n",
    "\n",
    "def textScraping(link):\n",
    "    count = 0\n",
    "    f2=open(\"testc.txt\",\"w+\",encoding=\"utf-8\")  \n",
    "    htmldata = getdata(link) \n",
    "    soup = BeautifulSoup(htmldata, 'html.parser') \n",
    "    data =''\n",
    "    text=\"\"\n",
    "    text2=\"\"\n",
    "    text3=\"\"\n",
    "    text4=\"\"\n",
    "    for data in soup.find_all(\"p\"):\n",
    "        text+=data.get_text()\n",
    "    text2+=text.replace('.', '.\\n')\n",
    "    text3+=text2.replace('  ', '')  \n",
    "    text4+=text3.replace('\\n\\n', '\\n')\n",
    "    print(text4)\n",
    "    return text4"
   ]
  },
  {
   "cell_type": "code",
   "execution_count": null,
   "id": "ddc1255a",
   "metadata": {},
   "outputs": [],
   "source": [
    "print(data[1161][3])"
   ]
  },
  {
   "cell_type": "code",
   "execution_count": null,
   "id": "a58cf398",
   "metadata": {},
   "outputs": [],
   "source": [
    "topic = \"\"\n",
    "subtopic = \"\"\n",
    "dictionary = {}\n",
    "\n",
    "#print(data[0][0])\n",
    "for x in range(1,1162):\n",
    "    try:\n",
    "        dictionary = {}\n",
    "        y = 4\n",
    "        if type(data[x][2])!=type(data[0][0]):\n",
    "            #print(data[x][2])\n",
    "            topic = data[x][2]\n",
    "            while type(data[x][y])!=type(data[0][0]) and data[x][y]!=\" \":\n",
    "                link = data[x][y]\n",
    "                dictionary[\"link\"] = link\n",
    "                dictionary[\"text\"] = textScraping(link)\n",
    "                y = y+1\n",
    "                filename = topic + \"_\" + str(time.time()) + \".json\"\n",
    "                with open(filename, \"w\") as outfile:\n",
    "                    json.dump(dictionary, outfile)\n",
    "            #topic = data[x][2]\n",
    "        if type(data[x][3])!=type(data[0][0]):\n",
    "            #print(data[x][2])\n",
    "            #topic = \"pulses\"\n",
    "            subtopic = data[x][3]\n",
    "            while type(data[x][y])!=type(data[0][0]) and data[x][y]!=\" \":\n",
    "                link = data[x][y]\n",
    "                dictionary[\"link\"] = link\n",
    "                dictionary[\"text\"] = textScraping(link)\n",
    "                y = y+1\n",
    "                filename = topic +  \"_\" + subtopic + \"_\" + str(time.time()) + \".json\"\n",
    "                with open(filename, \"w\") as outfile:\n",
    "                    json.dump(dictionary, outfile)\n",
    "            #topic = data[x][2]\n",
    "    except:\n",
    "        continue"
   ]
  },
  {
   "cell_type": "code",
   "execution_count": null,
   "id": "3c485442",
   "metadata": {},
   "outputs": [],
   "source": []
  }
 ],
 "metadata": {
  "kernelspec": {
   "display_name": "Python 3 (ipykernel)",
   "language": "python",
   "name": "python3"
  },
  "language_info": {
   "codemirror_mode": {
    "name": "ipython",
    "version": 3
   },
   "file_extension": ".py",
   "mimetype": "text/x-python",
   "name": "python",
   "nbconvert_exporter": "python",
   "pygments_lexer": "ipython3",
   "version": "3.7.3"
  }
 },
 "nbformat": 4,
 "nbformat_minor": 5
}
