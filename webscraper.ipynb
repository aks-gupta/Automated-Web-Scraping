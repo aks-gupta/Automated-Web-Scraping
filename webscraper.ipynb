{
 "cells": [
  {
   "cell_type": "code",
   "execution_count": 1,
   "id": "e4b52aca",
   "metadata": {},
   "outputs": [],
   "source": [
    "import pandas as pd\n",
    "import json\n",
    "import os.path\n",
    "from bs4 import BeautifulSoup \n",
    "import math\n",
    "import requests\n",
    "import time"
   ]
  },
  {
   "cell_type": "code",
   "execution_count": 2,
   "id": "8f546c1c",
   "metadata": {},
   "outputs": [],
   "source": [
    "df = pd.read_csv('RVCE_Text data search_Telugu - AGRICULTURE.csv')"
   ]
  },
  {
   "cell_type": "code",
   "execution_count": 3,
   "id": "cb509cb5",
   "metadata": {},
   "outputs": [],
   "source": [
    "data = df.iloc[:,:].values"
   ]
  },
  {
   "cell_type": "code",
   "execution_count": 4,
   "id": "14262a3c",
   "metadata": {},
   "outputs": [],
   "source": [
    "def getdata(url): \n",
    "    r = requests.get(url)\n",
    "    return r.text"
   ]
  },
  {
   "cell_type": "code",
   "execution_count": 5,
   "id": "30648e07",
   "metadata": {},
   "outputs": [
    {
     "name": "stdout",
     "output_type": "stream",
     "text": [
      "https://te.vikaspedia.in/agriculture/c35c4dc2fc35c38c3ec2f-c2ac02c1ac3ec02c17c02-1/c2ac02c1fc32-c35c3ec30c40c17c3e-c35c4dc2fc35c38c3ec2f-c2ac02c1ac3ec02c17c02/c07c24c30-c35c3fc37c2fc3ec32c41/c1cc40c35c28-c0ec30c41c35c41c32c41-c35c3ec21c02c21c3f-c28c3ec23c4dc2fc2ec28-c26c3fc17c41c2cc21c3f-c2ac4ac02c26c02c21c3f\n"
     ]
    }
   ],
   "source": [
    "print(data[108][5])"
   ]
  },
  {
   "cell_type": "code",
   "execution_count": 6,
   "id": "9715d71c",
   "metadata": {},
   "outputs": [],
   "source": [
    "def textScraping(link):\n",
    "    count = 0\n",
    "    f2=open(\"testc.txt\",\"w+\",encoding=\"utf-8\")  \n",
    "    htmldata = getdata(link) \n",
    "    soup = BeautifulSoup(htmldata, 'html.parser') \n",
    "    data =''\n",
    "    text=\"\"\n",
    "#     text2=\"\"\n",
    "#     text3=\"\"\n",
    "#     text4=\"\"\n",
    "    for data in soup.find_all(\"p\"):\n",
    "        text+=data.get_text()\n",
    "#         text2+=text.replace('.', '.\\n')\n",
    "#         text3+=text2.replace('  ', '')  \n",
    "#         text4+=text3.replace('\\n\\n', '\\n')\n",
    "    #print(text)\n",
    "    return text"
   ]
  },
  {
   "cell_type": "code",
   "execution_count": 7,
   "id": "064c0b59",
   "metadata": {},
   "outputs": [
    {
     "data": {
      "text/plain": [
       "'రైతు పొలంలో వ్యవసాయం చేయుటకు వెళుతున్న చిత్రం.\\nవ్యవసాయం చేసి, ఆహారాన్ని,  ముడిసరుకును పండించే వ్యక్తిని రైతు అంటారు. వ్యవసాయదారుడు అని కూడా అంటారు. పంటలు పండించేవారినే కాక, మామిడి, కొబ్బరి, ద్రాక్ష వంటి తోటల పెంపకం, పాడి పశువుల పెంపకం, కోళ్ళ పెంపకం, చేపలు, రొయ్యల పెంపకం మొదలైన వాటిని చేపట్టిన వారిని కూడా రైతులనే అంటారు. సాధారణంగా రైతులు తమ సొంత భూమిలోనే సాగు చేస్తూంటారు. ఇంకా ఇతరుల భూమిని అద్దెకు తీసుకుని కూడా చేస్తూంటారు. దాన్ని కౌలు అని, వారిని కౌలు రైతులనీ అంటారు. పొలం పనుల్లో భాగంగా రైతు పనిలో పెట్టుకునే వారిని రైతుకూలీలు అంటారు.\\nకంచుయుగం నాటికి, సా.శ.పూ. 5000-4000 నాటికే సుమేరియన్లకు వ్యవసాయ కూలీలు ఉన్నారు. వ్యవసాయంలో వాడుకునేందుకు గాను, పశుపోషణ చెయ్యడం వేల సంవత్సరాలుగా జరుగుతోంది. తూర్పు ఆసియాలో 15,000 ఏళ్ళ కిందటే కుక్కలను పెంచారు. సా.శ.పూ. 7,000 నాటికి ఆసియాలో మేకలు, గొర్రెలను పెంచారు. సా.పూ. 7,000 నాటికి మధ్య ప్రాచ్యం, చైనాల్లో పందులను పెంచారు. సా.పూ. 4,000 నాటికి గుర్రాలను పెంచారు.[1] సింధు లోయ నాగరికత నాటికే భారతదేశంలో వ్యవసాయం ఉంది. దక్షిణ భారత దేశంలో కొన్ని చోట్ల అంతకు ముందు నుండే ఉంది.[2][3]\\nట్రాక్టర్లు, హార్వెస్టర్లూ వంటి యంత్రాలతో పని చెయ్యడంలో వాటితో ప్రమాదాలకు లోనౌతూంటారు. దీర్ఘ కాలంలో రైతులు కీళ్ళ నొప్పులు, కండరాల నొప్పులకు గురవడం కూడా జరుగును.[4]\\n'"
      ]
     },
     "execution_count": 7,
     "metadata": {},
     "output_type": "execute_result"
    }
   ],
   "source": [
    "textScraping(data[1][4])"
   ]
  },
  {
   "cell_type": "code",
   "execution_count": 8,
   "id": "52f99a72",
   "metadata": {},
   "outputs": [],
   "source": [
    "import re"
   ]
  },
  {
   "cell_type": "code",
   "execution_count": 9,
   "id": "b97c75ea",
   "metadata": {},
   "outputs": [
    {
     "name": "stdout",
     "output_type": "stream",
     "text": [
      "\n",
      "FORMATTED DATA\n",
      "\n",
      "ఒక నిర్ధిష్టమైన పద్ధతిలో మొక్కలను జంతువులను పెంచి పోషించి తద్వారా ఆహారాన్ని మేత నార ఇంధనాన్ని ఉత్పత్తి చేయటాన్ని వ్యవసాయం లేదా కృషి  అంటారు.\n",
      "వ్యవసాయం యొక్క చరిత్ర మానవ చరిత్రలో అతి పెద్ద అంశము. ప్రపంచవ్యాప్త సామాజిక ఆర్థిక ప్రగతిలో వ్యవసాయభివృద్ధి ఒక కీలకాంశము. వేటాడటం ద్వారా ఆహార సముపార్జన చేసుకొనే స్థితిలో ఉన్న సంస్కృతులలో కనిపించని సంపద సమకూర్చుకోవటంసైనిక కలాపాలవంటి ప్రత్యేకతలు వ్యవసాయం అభివృద్ధి చెందటంతోనే ప్రారంభమయ్యాయి. సమాజంలోని కొందరు రైతులు తమ కుటుంబ ఆహార అవసరాలకు మించి పండిచటం ప్రారంభించడంతో తెగజాతిరాజ్యంలోని మిగిలిన వ్యక్తులకు ఇతర వ్యాపకాలను పోషించే వెసలుబాటునిచ్చింది.\n",
      "ప్రపంచములోని శ్రామికులలో  మంది వ్యవసాయ రంగములో పనిచేస్తున్నారు అందుచేత వ్యవసాయం ప్రపంచములోనే అధిక శాతం ప్రజల యొక్క వృత్తి. అయితే వ్యవసాయ ఉత్పత్తి ప్రపంచ ఉత్పాదనలో అన్ని దేశాల సమష్టి ఉత్పాదనల కూడిక కేవలం  మాత్రమే.[]\n",
      "ఆదిమ మానవులు మొదటగా జంతువుల మాంసం దుంపలు కాయలు పండ్లు మొదలైన వాటిని ఆహారంగా తీసుకునేవారు. కొంత కాలమైన తర్వాత నెమ్మదిగా వ్యవసాయ పద్ధతులు నేర్చుకుని కొద్ది మొత్తంలో ఆహారాన్ని ఉత్పత్తి చేయడం నేర్చుకున్నారు.ఆధునిక పురాతత్వ శాస్త్రవేత్తల పరిశోధన ప్రకారం పప్పుదినుసులు మొదలైన ఆహార పదార్థాలు పశుపోషణ మొదలైన వృత్తులు క్రీపూ  లోనే మధ్యధరా ప్రాంతానికి చెందిన దేశాల్లో బాగా వ్యాప్తి చెంది ఉండేవి. క్రీ.పూ  నాటికి ఈజిప్షియన్లు మెసపుటేమియన్లు పెద్ద ఎత్తున వ్యవసాయ పద్ధుతులు ఎరువుల వాడకం సాగునీటి పద్ధతులు చేపట్టారు.\n",
      "భారతదేశంలో వ్యవసాయ ఉత్పాదకత తక్కువగా ఉండటానికి ఒక కారణం వ్యవసాయంలో పురాతన పద్ధతులు పాటించడం. వ్యవసాయంలో యాంత్రీకరణం ప్రవేశపెట్టి ఆహార ధాన్యాల ఉత్పాదకతలను పెంచే నిమిత్తమై మూడో ప్రణాళికా కాలం నుంచే ప్రభుత్వం చర్యలు చేపట్టింది. ఆహార ధాన్యాల ఉత్పత్తిలో స్వయం సంవృద్ధిని సాధించడం ఈ ప్రణాళిక యొక్క ముఖ్యోద్దేశం.\n",
      "భారతదేశంలో పంట కాలాన్ని మూడు విధాలుగా వర్గీకరించారు. అవి\n",
      "రసాయనిక ఎరువులు కర్మాగారాలలో తయారైన రసాయనాలు\n",
      "సహజ ఎరువులు మొక్కలను విచ్ఛిన్న పరచి సహజ ఎరువులను తయారు చేస్తారు. \n",
      "వ్యవసాయ పనిముట్లు చాలా ఉన్నాయి.\n",
      "గుంటక\n",
      "గొర్రు\n",
      "నీటిని పైకి తోడి పంటలకు పారించే విధానం లో\n",
      "కపిలి\n",
      "గూడ\n",
      "ఏతం\n",
      "ఇవి గతంలో విరివిగా వాడకంలో వుండేవి ఇప్పుడు తక్కువ వాడుచున్నారు\n",
      "చేతి పనిముట్లు\n",
      "తొలిక కొడవలి కత్తి గుద్దలి కొంకి పిక్కాసు\n",
      "చెరుకు నుండి రసం తీయడానికి వాడే యంత్రం\n",
      "గానుగ గింజల నుండి నూనె తీయడానికి వాడే యంత్రం\n",
      "గానుగ గింజల నుండి పప్పులను పిండి చేయడానికి వాడే యంత్రం\n",
      "రుబ్బు రోలు విసుర్రాయి\n",
      "ఆచార్య ఎన్.జీ.రంగా వ్యవసాయ విశ్వవిద్యాలయము ఆంధ్ర ప్రదేశ్ ఉద్యాన విశ్వవిద్యాలయము వ్యవసాయంలో రెండేళ్ళ డిప్లొమా కోర్సులు అందజేస్తున్నాయి.  వ తరగతి శాతం హింది మినహాయించి తో  తరగతులలో నాలుగు సంవత్సరాలు గ్రామాలలో చదివి  సంవత్సరాల వయస్సుగల అభ్యర్థులు వీటికి అర్హులు. బోధన తెలుగులో వుంటుంది.\n",
      "ఎమ్సెట్ పరీక్ష ద్వారా రకరకాల సైన్స్ ఇంజనీరింగ్ కోర్సులు ఉన్నాయి. కొన్ని ముఖ్యమైన కోర్సులు\n",
      "స్వయం ఉపాధితో పాటు ప్రభుత్వ ప్రైవేటు రంగాలలో వివిధ ఉపాధి అవకాశాలున్నాయి. వివిధ వ్యవసాయ విశ్వవిద్యాలయాలు భారత వ్యవసాయ పరిశోధనా సంస్థకి సంబంధించిన వివిధ ప్రాంతీయ కేంద్రాలలో కృషి విజ్ఞాన కేంద్రాలు నేషనల్ డెయిరీ రీసెర్చ్ ఫారెస్ట్ రీసెర్చ్ వెటర్నరీ రీసెర్చ్ కమోడిటి బోర్డులు సహకార సంస్థలలో వివిధ స్థాయిలలో ఉద్యోగాలుంటాయి. ప్రోగ్రామ్ కోఆర్డినేటర్ వ్యవసాయ క్షేత్ర మేనేజర్ విషయ నిపుణులు అసోసియేట్ లేదా ఫెలో స్ధాయి శాఖాధిపతిప్రిన్సిపల్ సైంటిష్టు అసిస్టెంట్ కమీషనర్ ల పేర్లతో ఉపాధి అవకాశాలుంటాయి.\n",
      "ప్రైవేటు రంగంలో విత్తనాల ఉత్పత్తి పురుగు మందులు ఎరువులు శాఖలలో బ్యాంకులలో వ్యవసాయ ఋణాలు మంజూరుకు బీమా సంస్థలలో వివిధ మాధ్యమాలలో వ్యవసాయ కార్యక్రమాల రూపకల్పనకి విషయ నిపుణులుగా వ్యవసాయానికి సంబంధించి రకరకాల ఉపాధి అవకాశాలున్నాయి.\n",
      " విద్య దశలు\n",
      "ప్రాథమిక విద్య \n",
      "మాధ్యమిక విద్య \n",
      "ఉన్నత పాఠశాల విద్య \n",
      "ఇంటర్మీడియట్ విద్య \n",
      "ఉన్నత విద్య \n",
      " వృత్తి విద్య\n",
      "ఐటిఐ  \n",
      "పాలిటెక్నిక్ \n",
      "ఇంజనీరింగ్ \n",
      "వైద్య శాస్త్రముమెడిసిన్  \n",
      "వ్యవసాయంఆగ్రికల్చర్\n",
      "న్యాయం \n",
      "బోధన \n",
      " నిర్వహణ మానేజ్మెంట్  \n",
      "విద్యా సంస్థలు\n",
      "ప్రభుత్వ గురుకులాలు \n",
      "జవహర్ నవోదయ విద్యాలయాలు \n",
      "విశ్వవిద్యాలయాలు \n",
      "విద్యా  విషయ  సంస్థలు\n",
      "ఆంధ్రప్రదేశ్ రాష్ట్ర విద్యా పరిశోధన శిక్షణ సంస్థ \n",
      "రాష్ట్ర విద్యా సాంకేతికాల సంస్థ \n",
      "అసర్ \n",
      "పథకాలు\n",
      "సర్వ శిక్షా అభియాన్ \n",
      "రాష్ట్రీయ మాధ్యమిక శిక్షా అభియాన్ \n",
      "ఉపాధి రంగాలు \n",
      "ఐటి  \n",
      "బిపిఒ  \n",
      "విక్రయ కేంద్రాలు రిటైల్ \n",
      "బీమా \n",
      "తయారవడం\n",
      "ఇంటర్వ్యూ  \n",
      "వ్యాస రచన\n",
      "\n"
     ]
    }
   ],
   "source": [
    "#file=open(\"corpus-agriculture.txt\",\"w+\",encoding=\"utf-8\")\n",
    "t = textScraping(data[3][4])\n",
    "#print(t)\n",
    "print(\"\\nFORMATTED DATA\\n\")\n",
    "t = re.sub('[\\t\\r]', ' ', t)\n",
    "t = re.sub('[0-9]', '', t)\n",
    "t = re.sub('[A-Za-z]', '', t)\n",
    "t = re.sub('[$&+,:;=?@#|<>^*()%!/•-]', '', t)\n",
    "#file.write(t)\n",
    "#t = re.sub('[(),./:-]', '', t)\n",
    "print(t)"
   ]
  },
  {
   "cell_type": "code",
   "execution_count": 11,
   "id": "e6b08963",
   "metadata": {},
   "outputs": [],
   "source": [
    "#file=open(\"corpus-agriculture.txt\",\"w+\",encoding=\"utf-8\")\n",
    "file2 = open(\"corpus-agriculture-ngram.txt\", \"w+\", encoding=\"utf-8\")"
   ]
  },
  {
   "cell_type": "code",
   "execution_count": 14,
   "id": "8214efab",
   "metadata": {},
   "outputs": [
    {
     "name": "stdout",
     "output_type": "stream",
     "text": [
      "Error reading 10 5 https://www.ap.gov.in/wp-content/uploads/2015/11/FINAL-SWETAPATRAM-Agriculture.pdf\n",
      "Error reading 10 6 http://vyavasayam.telangana.gov.in/pathakaalu/rainforest-area-development-scheme/\n",
      "Error reading 13 5 http://vyavasayam.telangana.gov.in/etharavishayalu/pantalayajamanyam/veru-shanaga/\n",
      "Error reading 14 5 https://te.zm-irrigation.com/Micro-Sprinklers-For-Lawn-Irrigation.html\n",
      "Error reading 16 5 http://vyavasayam.telangana.gov.in/etharavishayalu/pantalayajamanyam/mokkajonna/kalupu-nivarana/\n",
      "Error reading 19 4 https://te.ijrbtonline.com/differences-fiber-neutral-detergent-fiber-88e24b0d4b8-2a0008\n",
      "Error reading 34 7 https://te.ijrbtonline.com/basic-composition-biofuel-24b22a8-886c0d\n",
      "Error reading 44 6 https://www.eenadupratibha.net/tenth/lesson/andhrapradesh/telugumedium/rivers-of-india-water-resources/2-2-4-218-481-814-650-1888-20040002013\n",
      "Error reading 44 7 https://www.sakshieducation.com/Story.aspx?nid=93755\n",
      "Error reading 49 5 https://www.eenadupratibha.net/jobs/lesson/dsc/dsc-andhra-pradesh/telugu-medium/dsc-social-studies-content/2-1-8-37-219-1167-5748-8294-20040008598\n",
      "Error reading 109 6 http://vyavasayam.telangana.gov.in/etharavishayalu/pantalayajamanyam/cheraku/eruvulu/\n",
      "Error reading 119 5 http://vyavasayam.telangana.gov.in/etharavishayalu/pantalayajamanyam/vari/pradana-polam/\n",
      "Error reading 133 6 http://magazine.telangana.gov.in/%E0%B0%97%E0%B1%8A%E0%B0%B0%E0%B1%8D%E0%B0%B0%E0%B1%86%E0%B0%B2-%E0%B0%AA%E0%B1%86%E0%B0%82%E0%B0%AA%E0%B0%95%E0%B0%82%E0%B0%A4%E0%B1%8B-%E0%B0%AC%E0%B0%B9%E0%B1%81%E0%B0%B3-%E0%B0%AA%E0%B1%8D/\n",
      "Error reading 137 5 https://te.ijrbtonline.com/aquatic-terrestrial-plants-2a4b428082a-60d22\n",
      "Error reading 137 6 https://te.ijrbtonline.com/aquatic-plants-kids-6c84b4b4b66-2a08e6c2a\n",
      "Error reading 140 6 https://te.ijrbtonline.com/list-mollusks-88e0048e4-2a2a42a6c\n",
      "Error reading 142 5 https://www.sakshieducation.com/AP-Secretariat/PStory.aspx?nid=158103&cid=20&sid=655&chid=1063&tid=510\n",
      "Error reading 142 6 https://www.sakshieducation.com/AP-Secretariat/PStory.aspx?nid=158103&cid=20&sid=655&chid=1063&tid=510\n",
      "Error reading 147 6 https://www.ntnews.com/districts/%E0%B0%AA%E0%B0%82%E0%B0%A1%E0%B1%8D%E0%B0%B2-%E0%B0%A4%E0%B1%8B%E0%B0%9F%E0%B0%B2%E0%B0%AA%E0%B1%88-%E0%B0%86%E0%B0%B8%E0%B0%95%E0%B1%8D%E0%B0%A4%E0%B0%BF-12795/\n",
      "Error reading 148 6 http://vyavasayam.telangana.gov.in/sendriya-vyavasayam-1/\n",
      "Error reading 157 5 http://silks.csb.gov.in/westgodavari/TE/rearing-of-mulberry-silkworm/\n",
      "Error reading 161 4 https://www.drysrhu.edu.in/uploads/Pandla%20totalu%20nate%20paddati%20(Telugu).pdf\n",
      "Error reading 163 6 https://te.ijrbtonline.com/new-lithium-based-battery-design-makes-use-of-greenhouse-gas-6746\n",
      "Error reading 164 5 http://icar-crida.res.in:82/kvk/publications/bulletins/bulletin_03.pdf\n",
      "Error reading 171 4 https://te.ijrbtonline.com/artificial-selection-selective-breeding-definition-examples-2a4b8e2a0d2a84-4b4b8e6c\n",
      "Error reading 171 5 https://te.ijrbtonline.com/describe-process-artificial-selection-2a60d6c8e-6c42a0d\n",
      "Error reading 173 4 http://icar-crida.res.in:82/kvk/publications/brouchures/0000000672-kvk%20brouchure%20T1&T2.pdf\n",
      "Error reading 177 6 http://vyavasayam.telangana.gov.in/etharavishayalu/pantalayajamanyam/prathi/antharapantalu/\n",
      "Error reading 179 5 https://te.ijrbtonline.com/ten-ways-to-ensure-pollinators-benefit-from-the-solar-power-boom-6981\n",
      "Error reading 209 4 https://sakshieducation.com/tclass/StoryT.aspx?nid=93831&cid=8&sid=652&chid=1037&tid=0\n",
      "Error reading 209 5 http://vyavasayam.telangana.gov.in/pathakaalu/national-food-security-mission/\n",
      "Error reading 211 5 https://www.eenadupratibha.net/home/article_landing/education-job-information/agriculture-courses/9-21010000375\n",
      "Error reading 211 6 https://www.sakshieducation.com/CareersStory.aspx?nid=29214&cid=15&sid=64&chid=0&tid=0\n",
      "Error reading 216 5 https://te.ijrbtonline.com/depletion-ecosystem-222a0d8-0d24b6c\n",
      "Error reading 223 5 https://www.sakshieducation.com/CurrentAffairs/StoryT.aspx?cid=20&sid=655&chid=1063&tid=0&nid=257364\n",
      "Error reading 241 7 apagrisnet.gov.in/soyachikkudu_purugulu.php\n",
      "Error reading 269 4 https://www.eenadupratibha.net/jobs/lesson/rrb/rrb-non-technical/telugu-medium/indian-agriculture/2-1-7-36-1106-1403-7938-11598-5278-20040013503#:~:text=%E0%B0%B8%E0%B0%BE%E0%B0%97%E0%B0%AF%E0%B1%8D%E0%B0%AF%E0%B1%87%20%E0%B0%AA%E0%B0%82%E0%B0%9F%E0%B0%B2%E0%B1%81%20%2D%20%E0%B0%B5%E0%B0%BF%E0%B0%B8%E0%B1%8D%E0%B0%A4%E0%B1%80%E0%B0%B0%E0%B1%8D%E0%B0%A3%E0%B0%82,%E0%B0%B0%E0%B0%AC%E0%B1%8D%E0%B0%AC%E0%B0%B0%E0%B1%81%2C%20%E0%B0%95%E0%B1%8A%E0%B0%AC%E0%B1%8D%E0%B0%AC%E0%B0%B0%E0%B0%BF%2C%20%E0%B0%AA%E0%B0%82%E0%B0%A1%E0%B1%8D%E0%B0%B2%20%E0%B0%A4%E0%B1%8B%E0%B0%9F%E0%B0%B2%E0%B1%81.\n",
      "Error reading 269 6 https://assets.eenadupratibha.net/uploadimages/vyavasayam1011.pdf\n",
      "Error reading 296 4 https://te.ijrbtonline.com/rice-experiments-2a6c2a08-2a244b4\n",
      "Error reading 305 5 https://www.honeyskitchen.in/2020/09/chikkudukaya-tomato-curry.html?m=1\n",
      "Error reading 353 6 https://www.eenadupratibha.net/appsc/lesson/group-i/screening-test/telugumedium/commercial-crops-in-india/2-1015-235-495-848-600-1769-2222-20040002990\n",
      "Error reading 424 6 https://www.agriclinic.org/october2018/chillicultivation.php\n",
      "Error reading 424 7 http://vyavasayam.telangana.gov.in/etharavishayalu/pantalayajamanyam/mirapa/rakalu/\n",
      "Error reading 496 4 https://te.ijrbtonline.com/tropical-wet-dry-climates-8482a6c44-42a2a8e\n",
      "Error reading 505 4 https://www.sakshieducation.com/POC/Story.aspx?nid=140048\n",
      "Error reading 511 4 http://vyavasayam.telangana.gov.in/etharavishayalu/pantalayajamanyam/pesara-minumulu/tegullu/\n",
      "Error reading 511 5 http://vyavasayam.telangana.gov.in/etharavishayalu/pantalayajamanyam/vari/tegullu/\n",
      "Error reading 516 9 https://te.ijrbtonline.com/advantages-disadvantages-afforestation-86c24482a-2a6c6c8e6c\n",
      "Error reading 661 6 https://te.truestylepets.com/rodenticide-poisoning\n",
      "Error reading 665 9 https://te.eturbonews.com/581214/%E0%B0%97%E0%B1%8D%E0%B0%B2%E0%B1%8B%E0%B0%AC%E0%B0%B2%E0%B1%8D-%E0%B0%AE%E0%B0%9F%E0%B1%8D%E0%B0%9F%E0%B0%BF-%E0%B0%95%E0%B0%82%E0%B0%A1%E0%B1%80%E0%B0%B7%E0%B0%A8%E0%B0%B0%E0%B1%8D-%E0%B0%AE%E0%B0%BE%E0%B0%B0%E0%B1%8D%E0%B0%95%E0%B1%86%E0%B0%9F%E0%B1%8D-2020-%E0%B0%95%E0%B1%8B%E0%B0%B5%E0%B0%BF%E0%B0%A1%E0%B1%8D-19-%E0%B0%89%E0%B0%A4%E0%B1%8D%E0%B0%A4%E0%B0%AE-%E0%B0%AA%E0%B0%B0%E0%B0%BF%E0%B0%B6%E0%B1%8D%E0%B0%B0%E0%B0%AE-%E0%B0%86%E0%B0%9F%E0%B0%97%E0%B0%BE%E0%B0%B3%E0%B1%8D%E0%B0%B2-%E0%B0%86%E0%B0%A6%E0%B0%BE%E0%B0%AF%E0%B0%82%E0%B0%AA%E0%B1%88-%E0%B0%AA%E0%B1%8D%E0%B0%B0%E0%B0%AD%E0%B0%BE%E0%B0%B5%E0%B0%82-%E0%B0%AC%E0%B0%BE%E0%B0%B8%E0%B1%8D%E0%B0%AB%E0%B1%8D-%E0%B0%B8%E0%B1%87-%E0/\n",
      "Error reading 725 9 bbc.com/telugu/india-55063080\n",
      "Error reading 802 7 http://vyavasayam.telangana.gov.in/etharavishayalu/sendriya-vyavasayam/\n",
      "Error reading 810 4 https://silks.csb.gov.in/westgodavari/TE/rearing-of-mulberry-silkworm/\n",
      "Error reading 901 5 http://vyavasayam.telangana.gov.in/etharavishayalu/pantalayajamanyam/prathi/antharapantalu/\n",
      "Error reading 910 6 https://www.ntnews.com/medak/%E0%B0%AA%E0%B0%82%E0%B0%A1%E0%B1%8D%E0%B0%B2-%E0%B0%A4%E0%B1%8B%E0%B0%9F%E0%B0%B2-%E0%B0%AA%E0%B1%86%E0%B0%82%E0%B0%AA%E0%B0%95%E0%B0%BE%E0%B0%A8%E0%B0%BF%E0%B0%95%E0%B0%BF-%E0%B0%AA%E0%B1%8D-135907/\n",
      "Error reading 910 7 https://www.drysrhu.edu.in/uploads/Pandla%20totalu%20nate%20paddati%20(Telugu).pdf\n",
      "Error reading 1066 10 http://vyavasayam.telangana.gov.in/pathakaalu/rainforest-area-development-scheme/\n",
      "Error reading 1068 4 https://www.sakshieducation.com/Ca/TStory.aspx?cid=1&sid=298&chid=1495&nid=170562\n",
      "Error reading 1078 6 http://vyavasayam.telangana.gov.in/pathakaalu/\n",
      "1084\n"
     ]
    }
   ],
   "source": [
    "for i in range(10,1085):\n",
    "    j = 4\n",
    "    #print(i)\n",
    "    while type(data[i][j])!=type(data[0][0]) and data[i][j]!=\" \":\n",
    "        t = \"\"\n",
    "        try:\n",
    "            #print(i,j, end='\\t')\n",
    "            t = textScraping(data[i][j])\n",
    "            #print(t)\n",
    "            #print(\"\\nFORMATTED DATA\\n\")\n",
    "            t = re.sub('[\\t\\r]', ' ', t)\n",
    "            t = re.sub('[0-9]', '', t)\n",
    "            t = re.sub('[A-Za-z]', '', t)\n",
    "            t = re.sub('[$&+,:;=?@#|<>^*()%!•/-]', '', t)\n",
    "            #file.write(t)\n",
    "            #t = re.sub('[(),./:-]', '', t)\n",
    "            #print(t)\n",
    "            file2.write(t)\n",
    "            j = j+1\n",
    "        except:\n",
    "            print(\"Error reading \", end = '')\n",
    "            print(i,j, end = ' ')\n",
    "            print(data[i][j])\n",
    "            j = j+1\n",
    "print(i)"
   ]
  },
  {
   "cell_type": "code",
   "execution_count": null,
   "id": "33549562",
   "metadata": {},
   "outputs": [],
   "source": [
    "# file=open(\"corpus-agriculture.txt\",\"w+\",encoding=\"utf-8\")\n",
    "# file2 = open(\"corpus-agriculture-nonewline.txt\", \"w+\", encoding=\"utf-8\")\n",
    "# t = \"\"\n",
    "\n",
    "# for i in range(1,3):\n",
    "#     j = 4\n",
    "#     #print(i)\n",
    "#     while type(data[i][j])!=type(data[0][0]) and data[i][j]!=\" \":\n",
    "#         try:\n",
    "#             #print(str(i) + \" \" + str(j) + \" \" + data[i][2] + \" \" + data[i][3])\n",
    "# #             t = textScraping(data[i][j])\n",
    "# #             #file.write(t)\n",
    "# #             print(t)\n",
    "# #             #t = t.replace(\"\\n\", \" \")\n",
    "# #             t = re.sub('[\\n\\t\\r]', ' ', t)\n",
    "# #             t = re.sub('[0-9]', '', t)\n",
    "# #             t = re.sub('[A-Za-z]', '', t)\n",
    "# #             t = re.sub('[$&+,:;=?@#|<>.^*()%!-•/]', '', t)\n",
    "# #             print(\"\\n\\nidk bro\\n\")\n",
    "# #             print(t)\n",
    "# #             #file.write(t + \"\\n\")\n",
    "# #             #file2.write(t)\n",
    "# #             #print(\"Formatted\")\n",
    "# #             #print(t)\n",
    "# #             #txt = txt + text\n",
    "#             t = textScraping(data[i][j])\n",
    "#             #print(t)\n",
    "#             file.write(t)\n",
    "#             #print(\"\\nFORMATTED DATA\\n\")\n",
    "#             t = re.sub('[\\n\\t\\r]', ' ', t)\n",
    "#             t = re.sub('[0-9]', '', t)\n",
    "#             t = re.sub('[A-Za-z]', '', t)\n",
    "#             t = re.sub('[$&+,:;=?@#|<>.^*()%!/-]', '', t)\n",
    "#             #t = re.sub('[(),./:-]', '', t)\n",
    "#             print(t)\n",
    "#             file2.write(t)\n",
    "#             j = j+1\n",
    "#         except:\n",
    "#             print(\"Error reading \", end = '')\n",
    "#             print(i,j, end = ' ')\n",
    "#             print(data[i][j])\n",
    "#             j = j+1\n",
    "    \n",
    "# #print(text)\n",
    "# # txt = txt.replace('\\n', ' ')\n",
    "# # txt = txt.replace('/-', ' ')\n",
    "# # txt = txt.replace('  ', ' ')\n",
    "# # txt = txt.replace(':', '')\n",
    "# # txt = re.sub('[0-9]', '', txt)\n",
    "# # txt = re.sub('[A-Za-z]', '', txt)\n",
    "# # txt = re.sub('[$&+,:;=?@#|<>.^*()%!-]', '', txt)\n",
    "# # # text = textScraping(data[1][4])\n",
    "# # print(txt)"
   ]
  }
 ],
 "metadata": {
  "kernelspec": {
   "display_name": "default:Python",
   "language": "python",
   "name": "conda-env-default-py"
  },
  "language_info": {
   "codemirror_mode": {
    "name": "ipython",
    "version": 3
   },
   "file_extension": ".py",
   "mimetype": "text/x-python",
   "name": "python",
   "nbconvert_exporter": "python",
   "pygments_lexer": "ipython3",
   "version": "3.9.7"
  }
 },
 "nbformat": 4,
 "nbformat_minor": 5
}
